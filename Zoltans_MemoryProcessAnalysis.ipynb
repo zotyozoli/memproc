{
 "cells": [
  {
   "cell_type": "markdown",
   "metadata": {},
   "source": [
    "# Process Analysis Homework\n",
    "For this assignment you will be reviewing a memory image infected with APT malware. The image has been provided for you to download and is named `APT.img` For this assignment we will just be focused on reviwing processes and determining if any of them need more detailed analysis. First you must identify what profile to use with your analysis with the `imageinfo` command\n",
    "\n",
    "## Profile Identification"
   ]
  },
  {
   "cell_type": "code",
   "execution_count": 3,
   "metadata": {},
   "outputs": [
    {
     "name": "stdout",
     "output_type": "stream",
     "text": []
    }
   ],
   "source": [
    "C:\\Users\\Z\\Documents\\GitHub\\hello\\volatility\\vol.py -f C:\\apt\\APT.img imageinfo"
   ]
  },
  {
   "cell_type": "markdown",
   "metadata": {},
   "source": [
    "Volatility Foundation Volatility Framework 2.6\n",
    "INFO    : volatility.debug    : Determining profile based on KDBG search...\n",
    "          Suggested Profile(s) : WinXPSP2x86, WinXPSP3x86 (Instantiated with WinXPSP2x86)\n",
    "                     AS Layer1 : IA32PagedMemoryPae (Kernel AS)\n",
    "                     AS Layer2 : FileAddressSpace (C:\\apt\\APT.img)\n",
    "                      PAE type : PAE\n",
    "                           DTB : 0x319000L\n",
    "                          KDBG : 0x80545b60L\n",
    "          Number of Processors : 1\n",
    "     Image Type (Service Pack) : 3\n",
    "                KPCR for CPU 0 : 0xffdff000L\n",
    "             KUSER_SHARED_DATA : 0xffdf0000L\n",
    "           Image date and time : 2009-05-05 19:28:57 UTC+0000\n",
    "     Image local date and time : 2009-05-05 15:28:57 -0400\n",
    "python ../volatility/vol.py -f ../APT.img imageinfo"
   ]
  },
  {
   "cell_type": "markdown",
   "metadata": {},
   "source": [
    "Now that you know the profile use that to review the following process analysis with volatility:\n",
    " * `plist`\n",
    " * `pstree`\n",
    " * `psscan`\n",
    " * `psxview`\n",
    " \n",
    " Document any of your findings of supicious processes in line and make sure to document each analysis execution.\n",
    " \n",
    " ## PSLIST"
   ]
  },
  {
   "cell_type": "code",
   "execution_count": 5,
   "metadata": {},
   "outputs": [
    {
     "name": "stdout",
     "output_type": "stream",
     "text": []
    }
   ],
   "source": [
    "C:\\Users\\Z\\Documents\\GitHub\\hello\\volatility\\vol.py -f C:\\apt\\APT.img --profile=WinXPSP2x86 pslist"
   ]
  },
  {
   "cell_type": "markdown",
   "metadata": {},
   "source": [
    "Volatility Foundation Volatility Framework 2.6\n",
    "Offset(V)  Name                    PID   PPID   Thds     Hnds   Sess  Wow64 Start                          Exit                          \n",
    "---------- -------------------- ------ ------ ------ -------- ------ ------ ------------------------------ ------------------------------\n",
    "0x823c8830 System                    4      0     55      254 ------      0                                                              \n",
    "0x8230aad8 smss.exe                564      4      3       19 ------      0 2009-04-16 16:10:01 UTC+0000                                 \n",
    "0x822ca2c0 csrss.exe               636    564     10      356      0      0 2009-04-16 16:10:06 UTC+0000                                 \n",
    "0x81f63020 winlogon.exe            660    564     16      502      0      0 2009-04-16 16:10:06 UTC+0000                                 \n",
    "0x81f22020 services.exe            704    660     15      254      0      0 2009-04-16 16:10:06 UTC+0000                                 \n",
    "0x82164da0 lsass.exe               716    660     21      342      0      0 2009-04-16 16:10:06 UTC+0000                                 \n",
    "0x822cb458 vmacthlp.exe            872    704      1       25      0      0 2009-04-16 16:10:07 UTC+0000                                 \n",
    "0x81e54da0 svchost.exe             884    704     17      208      0      0 2009-04-16 16:10:07 UTC+0000                                 \n",
    "0x81da4590 svchost.exe             968    704     10      241      0      0 2009-04-16 16:10:07 UTC+0000                                 \n",
    "0x81f739b0 svchost.exe            1088    704     70     1445      0      0 2009-04-16 16:10:07 UTC+0000                                 \n",
    "0x8232c020 svchost.exe            1140    704      5       60      0      0 2009-04-16 16:10:08 UTC+0000                                 \n",
    "0x81e91da0 svchost.exe            1212    704     14      208      0      0 2009-04-16 16:10:09 UTC+0000                                 \n",
    "0x8219b630 spoolsv.exe            1512    704     10      129      0      0 2009-04-16 16:10:10 UTC+0000                                 \n",
    "0x81da71a8 explorer.exe           1672   1624     15      586      0      0 2009-04-16 16:10:10 UTC+0000                                 \n",
    "0x81f1c7e8 VMwareTray.exe         1984   1672      1       37      0      0 2009-04-16 16:10:11 UTC+0000                                 \n",
    "0x81dc1a78 VMwareUser.exe         2004   1672      8      228      0      0 2009-04-16 16:10:11 UTC+0000                                 \n",
    "0x81f1a650 ctfmon.exe             2020   1672      1       71      0      0 2009-04-16 16:10:11 UTC+0000                                 \n",
    "0x81dc2570 VMwareService.e        1032    704      3      175      0      0 2009-04-16 16:10:16 UTC+0000                                 \n",
    "0x81d33628 alg.exe                 464    704      6      105      0      0 2009-04-16 16:10:21 UTC+0000                                 \n",
    "0x81f96220 wscntfy.exe            1260   1088      1       39      0      0 2009-04-16 16:10:22 UTC+0000                                 \n",
    "0x8231eda0 msiexec.exe            1464    704      6      294      0      0 2009-04-16 16:11:02 UTC+0000                                 \n",
    "0x81e4d648 cmd.exe                 840   1672      1       33      0      0 2009-05-05 15:56:24 UTC+0000                                 \n",
    "0x81dbdda0 iexplore.exe            796    884      8      152      0      0 2009-05-05 19:28:28 UTC+0000                                 \n",
    "0x82161558 MIRAgent.exe            456    840      1       77      0      0 2009-05-05 19:28:40 UTC+0000                                 \n",
    "python ../volatility/vol.py -f ../APT.img --profile=WinXPSP2x86 pslist"
   ]
  },
  {
   "cell_type": "markdown",
   "metadata": {},
   "source": [
    "## PSTREE"
   ]
  },
  {
   "cell_type": "code",
   "execution_count": null,
   "metadata": {},
   "outputs": [],
   "source": [
    "C:\\Users\\Z\\Documents\\GitHub\\hello\\volatility\\vol.py -f C:\\apt\\APT.img --profile=WinXPSP2x86 pstree"
   ]
  },
  {
   "cell_type": "markdown",
   "metadata": {},
   "source": [
    "Volatility Foundation Volatility Framework 2.6\n",
    "Name                                                  Pid   PPid   Thds   Hnds Time\n",
    "-------------------------------------------------- ------ ------ ------ ------ ----\n",
    " 0x823c8830:System                                      4      0     55    254 1970-01-01 00:00:00 UTC+0000\n",
    ". 0x8230aad8:smss.exe                                 564      4      3     19 2009-04-16 16:10:01 UTC+0000\n",
    ".. 0x81f63020:winlogon.exe                            660    564     16    502 2009-04-16 16:10:06 UTC+0000\n",
    "... 0x81f22020:services.exe                           704    660     15    254 2009-04-16 16:10:06 UTC+0000\n",
    ".... 0x81f739b0:svchost.exe                          1088    704     70   1445 2009-04-16 16:10:07 UTC+0000\n",
    "..... 0x81f96220:wscntfy.exe                         1260   1088      1     39 2009-04-16 16:10:22 UTC+0000\n",
    ".... 0x81da4590:svchost.exe                           968    704     10    241 2009-04-16 16:10:07 UTC+0000\n",
    ".... 0x81dc2570:VMwareService.e                      1032    704      3    175 2009-04-16 16:10:16 UTC+0000\n",
    ".... 0x8231eda0:msiexec.exe                          1464    704      6    294 2009-04-16 16:11:02 UTC+0000\n",
    ".... 0x81e54da0:svchost.exe                           884    704     17    208 2009-04-16 16:10:07 UTC+0000\n",
    "..... 0x81dbdda0:iexplore.exe                         796    884      8    152 2009-05-05 19:28:28 UTC+0000\n",
    ".... 0x81e91da0:svchost.exe                          1212    704     14    208 2009-04-16 16:10:09 UTC+0000\n",
    ".... 0x81d33628:alg.exe                               464    704      6    105 2009-04-16 16:10:21 UTC+0000\n",
    ".... 0x8219b630:spoolsv.exe                          1512    704     10    129 2009-04-16 16:10:10 UTC+0000\n",
    ".... 0x822cb458:vmacthlp.exe                          872    704      1     25 2009-04-16 16:10:07 UTC+0000\n",
    ".... 0x8232c020:svchost.exe                          1140    704      5     60 2009-04-16 16:10:08 UTC+0000\n",
    "... 0x82164da0:lsass.exe                              716    660     21    342 2009-04-16 16:10:06 UTC+0000\n",
    ".. 0x822ca2c0:csrss.exe                               636    564     10    356 2009-04-16 16:10:06 UTC+0000\n",
    " 0x81da71a8:explorer.exe                             1672   1624     15    586 2009-04-16 16:10:10 UTC+0000\n",
    ". 0x81f1c7e8:VMwareTray.exe                          1984   1672      1     37 2009-04-16 16:10:11 UTC+0000\n",
    ". 0x81e4d648:cmd.exe                                  840   1672      1     33 2009-05-05 15:56:24 UTC+0000\n",
    ".. 0x82161558:MIRAgent.exe                            456    840      1     77 2009-05-05 19:28:40 UTC+0000\n",
    ". 0x81dc1a78:VMwareUser.exe                          2004   1672      8    228 2009-04-16 16:10:11 UTC+0000\n",
    ". 0x81f1a650:ctfmon.exe                              2020   1672      1     71 2009-04-16 16:10:11 UTC+0000\n",
    "python ../volatility/vol.py -f ../APT.img --profile=WinXPSP2x86 pstree"
   ]
  },
  {
   "cell_type": "markdown",
   "metadata": {},
   "source": [
    "## PSSCAN"
   ]
  },
  {
   "cell_type": "code",
   "execution_count": null,
   "metadata": {},
   "outputs": [],
   "source": [
    "C:\\Users\\Z\\Documents\\GitHub\\hello\\volatility\\vol.py -f C:\\apt\\APT.img --profile=WinXPSP2x86 psscan"
   ]
  },
  {
   "cell_type": "markdown",
   "metadata": {},
   "source": [
    "Volatility Foundation Volatility Framework 2.6\n",
    "Offset(P)          Name                PID   PPID PDB        Time created                   Time exited                   \n",
    "------------------ ---------------- ------ ------ ---------- ------------------------------ ------------------------------\n",
    "0x0000000001f33628 alg.exe             464    704 0x08c002e0 2009-04-16 16:10:21 UTC+0000                                 \n",
    "0x0000000001fa4590 svchost.exe         968    704 0x08c00100 2009-04-16 16:10:07 UTC+0000                                 \n",
    "0x0000000001fa71a8 explorer.exe       1672   1624 0x08c00200 2009-04-16 16:10:10 UTC+0000                                 \n",
    "0x0000000001fbdda0 iexplore.exe        796    884 0x08c00320 2009-05-05 19:28:28 UTC+0000                                 \n",
    "0x0000000001fc1a78 VMwareUser.exe     2004   1672 0x08c00160 2009-04-16 16:10:11 UTC+0000                                 \n",
    "0x0000000001fc2570 VMwareService.e    1032    704 0x08c00280 2009-04-16 16:10:16 UTC+0000                                 \n",
    "0x000000000204d648 cmd.exe             840   1672 0x08c002c0 2009-05-05 15:56:24 UTC+0000                                 \n",
    "0x0000000002054da0 svchost.exe         884    704 0x08c000e0 2009-04-16 16:10:07 UTC+0000                                 \n",
    "0x0000000002091da0 svchost.exe        1212    704 0x08c00180 2009-04-16 16:10:09 UTC+0000                                 \n",
    "0x000000000211a650 ctfmon.exe         2020   1672 0x08c00260 2009-04-16 16:10:11 UTC+0000                                 \n",
    "0x000000000211c7e8 VMwareTray.exe     1984   1672 0x08c00240 2009-04-16 16:10:11 UTC+0000                                 \n",
    "0x0000000002122020 services.exe        704    660 0x08c00080 2009-04-16 16:10:06 UTC+0000                                 \n",
    "0x0000000002163020 winlogon.exe        660    564 0x08c00060 2009-04-16 16:10:06 UTC+0000                                 \n",
    "0x00000000021739b0 svchost.exe        1088    704 0x08c00120 2009-04-16 16:10:07 UTC+0000                                 \n",
    "0x0000000002196220 wscntfy.exe        1260   1088 0x08c00300 2009-04-16 16:10:22 UTC+0000                                 \n",
    "0x0000000002361558 MIRAgent.exe        456    840 0x08c001e0 2009-05-05 19:28:40 UTC+0000                                 \n",
    "0x0000000002364da0 lsass.exe           716    660 0x08c000a0 2009-04-16 16:10:06 UTC+0000                                 \n",
    "0x000000000239b630 spoolsv.exe        1512    704 0x08c001a0 2009-04-16 16:10:10 UTC+0000                                 \n",
    "0x00000000024ca2c0 csrss.exe           636    564 0x08c00040 2009-04-16 16:10:06 UTC+0000                                 \n",
    "0x00000000024cb458 vmacthlp.exe        872    704 0x08c000c0 2009-04-16 16:10:07 UTC+0000                                 \n",
    "0x000000000250aad8 smss.exe            564      4 0x08c00020 2009-04-16 16:10:01 UTC+0000                                 \n",
    "0x000000000251eda0 msiexec.exe        1464    704 0x08c002a0 2009-04-16 16:11:02 UTC+0000                                 \n",
    "0x000000000252c020 svchost.exe        1140    704 0x08c00140 2009-04-16 16:10:08 UTC+0000                                 \n",
    "0x00000000025c8830 System                4      0 0x00319000                                                              \n",
    "0x0000000003178220 wscntfy.exe        1260   1088 0x08c00300 2009-04-16 16:10:22 UTC+0000                                 \n",
    "0x00000000032b3da0 svchost.exe         884    704 0x08c000e0 2009-04-16 16:10:07 UTC+0000                                 \n",
    "0x00000000035c1590 svchost.exe         968    704 0x08c00100 2009-04-16 16:10:07 UTC+0000                                 \n",
    "0x0000000004097020 svchost.exe        1140    704 0x08c00140 2009-04-16 16:10:08 UTC+0000                                 \n",
    "0x0000000007b1ada0 iexplore.exe        796    884 0x08c00320 2009-05-05 19:28:28 UTC+0000                                 \n",
    "0x000000000ad69da0 iexplore.exe        796    884 0x08c00320 2009-05-05 19:28:28 UTC+0000                                 \n",
    "0x000000000c605020 svchost.exe        1140    704 0x08c00140 2009-04-16 16:10:08 UTC+0000                                 \n",
    "0x000000000edd0628 alg.exe             464    704 0x08c002e0 2009-04-16 16:10:21 UTC+0000                                 \n",
    "0x000000000edd59b0 svchost.exe        1088    704 0x08c00120 2009-04-16 16:10:07 UTC+0000                                 \n",
    "0x000000000eed3628 alg.exe             464    704 0x08c002e0 2009-04-16 16:10:21 UTC+0000                                 \n",
    "0x0000000010b54628 alg.exe             464    704 0x08c002e0 2009-04-16 16:10:21 UTC+0000                                 \n",
    "0x0000000012f3dda0 svchost.exe         884    704 0x08c000e0 2009-04-16 16:10:07 UTC+0000                                 \n",
    "0x0000000015934830 System                4      0 0x00319000                                                              \n",
    "0x000000001b217da0 iexplore.exe        796    884 0x08c00320 2009-05-05 19:28:28 UTC+0000                                 "
   ]
  },
  {
   "cell_type": "markdown",
   "metadata": {},
   "source": [
    "## PSXVIEW"
   ]
  },
  {
   "cell_type": "code",
   "execution_count": 6,
   "metadata": {},
   "outputs": [
    {
     "name": "stdout",
     "output_type": "stream",
     "text": []
    }
   ],
   "source": [
    "C:\\Users\\Z\\Documents\\GitHub\\hello\\volatility\\vol.py -f C:\\apt\\APT.img --profile=WinXPSP2x86 psxview "
   ]
  },
  {
   "cell_type": "markdown",
   "metadata": {},
   "source": [
    "Volatility Foundation Volatility Framework 2.6\n",
    "Offset(P)  Name                    PID pslist psscan thrdproc pspcid csrss session deskthrd ExitTime\n",
    "---------- -------------------- ------ ------ ------ -------- ------ ----- ------- -------- --------\n",
    "0x02163020 winlogon.exe            660 True   True   True     True   True  True    True     \n",
    "0x02122020 services.exe            704 True   True   True     True   True  True    True     \n",
    "0x0211a650 ctfmon.exe             2020 True   True   True     True   True  True    True     \n",
    "0x01fa71a8 explorer.exe           1672 True   True   True     True   True  True    True     \n",
    "0x0252c020 svchost.exe            1140 True   True   True     True   True  True    True     \n",
    "0x0204d648 cmd.exe                 840 True   True   True     True   True  True    True     \n",
    "0x01fc1a78 VMwareUser.exe         2004 True   True   True     True   True  True    True     \n",
    "0x02054da0 svchost.exe             884 True   True   True     True   True  True    True     \n",
    "0x02196220 wscntfy.exe            1260 True   True   True     True   True  True    True     \n",
    "0x021739b0 svchost.exe            1088 True   True   True     True   True  True    True     \n",
    "0x01fa4590 svchost.exe             968 True   True   True     True   True  True    True     \n",
    "0x02361558 MIRAgent.exe            456 True   True   True     True   True  True    True     \n",
    "0x02364da0 lsass.exe               716 True   True   True     True   True  True    False    \n",
    "0x0211c7e8 VMwareTray.exe         1984 True   True   True     True   True  True    True     \n",
    "0x02091da0 svchost.exe            1212 True   True   True     True   True  True    True     \n",
    "0x01fbdda0 iexplore.exe            796 True   True   True     True   True  True    True     \n",
    "0x024cb458 vmacthlp.exe            872 True   True   True     True   True  True    True     \n",
    "0x0239b630 spoolsv.exe            1512 True   True   True     True   True  True    True     \n",
    "0x0251eda0 msiexec.exe            1464 True   True   True     True   True  True    True     \n",
    "0x01f33628 alg.exe                 464 True   True   True     True   True  True    True     \n",
    "0x01fc2570 VMwareService.e        1032 True   True   True     True   True  True    True     \n",
    "0x0250aad8 smss.exe                564 True   True   True     True   False False   False    \n",
    "0x025c8830 System                    4 True   True   True     True   False False   False    \n",
    "0x024ca2c0 csrss.exe               636 True   True   True     True   False True    True     \n",
    "0x03178220 wscntfy.exe            1260 False  True   False    False  False False   False    \n",
    "0x0c605020 svchost.exe            1140 False  True   False    False  False False   False    \n",
    "0x0ad69da0 iexplore.exe            796 False  True   False    False  False False   False    \n",
    "0x0edd0628 alg.exe                 464 False  True   False    False  False False   False    \n",
    "0x032b3da0 svchost.exe             884 False  True   False    False  False False   False    \n",
    "0x0eed3628 alg.exe                 464 False  True   False    False  False False   False    \n",
    "0x10b54628 alg.exe                 464 False  True   False    False  False False   False    \n",
    "0x15934830 System                    4 False  True   False    False  False False   False    \n",
    "0x1b217da0 iexplore.exe            796 False  True   False    False  False False   False    \n",
    "0x04097020 svchost.exe            1140 False  True   False    False  False False   False    \n",
    "0x035c1590 svchost.exe             968 False  True   False    False  False False   False    \n",
    "0x07b1ada0 iexplore.exe            796 False  True   False    False  False False   False    \n",
    "0x0edd59b0 svchost.exe            1088 False  True   False    False  False False   False    \n",
    "0x12f3dda0 svchost.exe             884 False  True   False    False  False False   False    \n",
    "python ../volatility/vol.py -f ../APT.img --profile=WinXPSP2x86 psxview"
   ]
  },
  {
   "cell_type": "markdown",
   "metadata": {},
   "source": [
    "## Summary of Findings\n",
    "Please summarize all your findings here with cleaned up documented evidence"
   ]
  },
  {
   "cell_type": "markdown",
   "metadata": {},
   "source": [
    "Windows XP system.\n",
    "\n",
    "On 2009 April 16 at 4:10:02 pm a trojan got installed via Windows silent installer. \n",
    "Banking trojan is disguised under \"alg.exe\" process.\n",
    "According to Virustotal.com, alg.exe is a malware installer. It sets a malicious proxy into a web browser, to redirect brazilian bank pages to a phishing one.\n",
    "\n",
    "0x81d33628 alg.exe      464    704   6   105   0   0 2009-04-16 16:10:21 UTC+0000 \n",
    "0x8231eda0 msiexec.exe 1464    704   6   294   0   0 2009-04-16 16:11:02 UTC+0000 \n",
    "\n",
    "Roughly a month later Mandiant's agent got installed as part of incident response.\n",
    "Memory image was taken:\n",
    "Image date and time : 2009-05-05 19:28:57 UTC+0000\n",
    "\n",
    " "
   ]
  }
 ],
 "metadata": {
  "kernelspec": {
   "display_name": "PowerShell",
   "language": "powershell",
   "name": "powershell"
  },
  "language_info": {
   "codemirror_mode": "shell",
   "file_extension": ".ps1",
   "mimetype": "text/x-sh",
   "name": "powershell"
  }
 },
 "nbformat": 4,
 "nbformat_minor": 2
}
